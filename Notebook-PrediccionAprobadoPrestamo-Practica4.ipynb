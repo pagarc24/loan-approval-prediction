{
 "cells": [
  {
   "cell_type": "markdown",
   "metadata": {},
   "source": [
    "# Práctica 4 #  \n",
    "Grupo: Tralalelo Tralala  \n",
    "Integrantes: Yuriy Chaban Markevych, Pablo García Fernández, Alejandro Rodríguez Giner y Alonso Campillo Martínez  "
   ]
  },
  {
   "cell_type": "markdown",
   "metadata": {},
   "source": [
    "# Introducción  \n",
    "Aquí explicamos el trabajo y la motivación por hacerlo"
   ]
  },
  {
   "cell_type": "markdown",
   "metadata": {},
   "source": [
    "# Dataset  \n",
    "Explicamos el dataset elegido, las columnas que vamos a usar y hacemos la limpieza de los datos (previo análisis). Vamos a tratar todos los campos del dataframe como strings. Si en algún futuro necesitamos tratar los datos como números, simplemente los convertiremos."
   ]
  },
  {
   "cell_type": "code",
   "execution_count": null,
   "metadata": {},
   "outputs": [],
   "source": [
    "import sklearn as skl\n",
    "import pandas as pd\n",
    "import numpy as np\n",
    "\n",
    "_prestamos = pd.read_csv('dataset.csv')\n"
   ]
  },
  {
   "cell_type": "markdown",
   "metadata": {},
   "source": [
    "Ahora vamos a mostrar los 4 primeros y los 4 últimos para asegurar que funciona el dataset a la perfección."
   ]
  },
  {
   "cell_type": "code",
   "execution_count": null,
   "metadata": {},
   "outputs": [],
   "source": [
    "display(_prestamos.head(n=4))\n",
    "display(_prestamos.tail(n=4))\n",
    "print(_prestamos.columns.tolist())"
   ]
  },
  {
   "cell_type": "markdown",
   "metadata": {},
   "source": [
    "Limpiamos el dataframe para que no tengamos problemas con las claves y las columnas en el futuro, concretamente quitando los espacios en blanco \n",
    "y quitando el loan_id (ya que es un dato innecesario para la predicción del modelo)."
   ]
  },
  {
   "cell_type": "code",
   "execution_count": null,
   "metadata": {},
   "outputs": [],
   "source": [
    "_prestamos.columns = _prestamos.columns.str.strip()\n",
    "_prestamos = _prestamos.applymap(lambda x: x.strip() if isinstance(x, str) else x)\n",
    "display(_prestamos.head(n=1))\n",
    "\n",
    "columnas= [\"no_of_dependents\", \"education\", \"self_employed\", \"income_annum\", \"loan_amount\", \"loan_term\", \"cibil_score\", \"residential_assets_value\", \"commercial_assets_value\",\"luxury_assets_value\",\"bank_asset_value\",\"loan_status\"] \n",
    "_prestamos= _prestamos[columnas]\n",
    "\n",
    "display(_prestamos)"
   ]
  },
  {
   "cell_type": "markdown",
   "metadata": {},
   "source": [
    "Aplicamos ahora One Hot Encoder a los atributos categóricos. Usaremos el método unique para identificar los valores únicos de esa columna, de manera que podamos detectar si hay algun valor erróneo. Finalmente, aplicamos OneHotEncoder para convertir la columna en valores binarios."
   ]
  },
  {
   "cell_type": "code",
   "execution_count": null,
   "metadata": {},
   "outputs": [],
   "source": [
    "self_employed_data= _prestamos['self_employed'].unique() \n",
    "print(self_employed_data)\n",
    "\n",
    "education_data= _prestamos['education'].unique() \n",
    "print(education_data)\n",
    "\n",
    "loan_status_data= _prestamos['loan_status'].unique() \n",
    "print(loan_status_data)\n",
    "\n",
    "columnas_categoricas = ['self_employed', 'education', 'loan_status']\n",
    "\n",
    "from sklearn.preprocessing import OneHotEncoder\n",
    "encoder = OneHotEncoder(drop='first', sparse_output=False)\n",
    "\n",
    "categorical_encoded = encoder.fit_transform(_prestamos[columnas_categoricas])\n",
    "\n",
    "categorical_encoded_df = pd.DataFrame(\n",
    "    categorical_encoded,\n",
    "    columns=encoder.get_feature_names_out(columnas_categoricas)\n",
    ")\n",
    "\n",
    "_prestamos = pd.concat(\n",
    "    [_prestamos.drop(columns=columnas_categoricas), categorical_encoded_df],\n",
    "    axis=1\n",
    ")\n",
    "\n",
    "display(_prestamos)\n"
   ]
  },
  {
   "cell_type": "markdown",
   "metadata": {},
   "source": [
    "Ahora miramos los atributos numericos. A todas las columnas les aplicaremos la conversión a numérico para evitar que queden representados en otro tipo de datos (por ejemplo, String). Previo a ello miraremos los valores numéricos de cada columna con el fin de observar posibles valores extraños. Además, en el caso de los activos, cantidad solicitada y plazos revisaremos el valor mínimo, pues no debe ser negativo, y en el caso del CIBIL el valor máximo y mínimo, pues es una puntuación que debe estar entre 300 y 900."
   ]
  },
  {
   "cell_type": "code",
   "execution_count": null,
   "metadata": {},
   "outputs": [],
   "source": [
    "def no_negativos(x):\n",
    "    if x < 0:\n",
    "        return 0\n",
    "    else:\n",
    "        return x\n",
    "\n",
    "dependents_data= _prestamos['no_of_dependents'].unique() \n",
    "print(dependents_data)\n",
    "_prestamos['no_of_dependents'] = pd.to_numeric(_prestamos['no_of_dependents'], errors='coerce')\n",
    "\n",
    "annum_data= _prestamos['income_annum'].unique() \n",
    "print(annum_data)\n",
    "_prestamos['income_annum'] = pd.to_numeric(_prestamos['income_annum'], errors='coerce')\n",
    "\n",
    "loan_amount_data = _prestamos['loan_amount'].unique()\n",
    "print(loan_amount_data)\n",
    "_prestamos['loan_amount'] = pd.to_numeric(_prestamos['loan_amount'], errors='coerce')\n",
    "print(_prestamos['loan_amount'].min())\n",
    "\n",
    "loan_term_data = _prestamos['loan_term'].unique()\n",
    "print(loan_term_data)\n",
    "_prestamos['loan_term'] = pd.to_numeric(_prestamos['loan_term'], errors='coerce')\n",
    "print(_prestamos['loan_term'].min())\n",
    "\n",
    "_prestamos['cibil_score'] = pd.to_numeric(_prestamos['cibil_score'], errors='coerce')\n",
    "cibil_score_data = _prestamos['cibil_score'].unique()\n",
    "print(cibil_score_data) \n",
    "print(_prestamos['cibil_score'].min(), _prestamos['cibil_score'].max()) \n",
    "\n",
    "residential_assets_value_data = _prestamos['residential_assets_value'].unique()\n",
    "print(residential_assets_value_data)\n",
    "_prestamos['residential_assets_value'] = pd.to_numeric(_prestamos['residential_assets_value'], errors='coerce')\n",
    "print(_prestamos['residential_assets_value'].min())\n",
    "#Como tiene valores negativos los convertimos a 0, ya que no pueden ser negativos\n",
    "_prestamos['residential_assets_value'] = _prestamos['residential_assets_value'].apply(no_negativos)\n",
    "print(_prestamos['residential_assets_value'].min())\n",
    "\n",
    "\n",
    "commercial_assets_value_data = _prestamos['commercial_assets_value'].unique()\n",
    "print(commercial_assets_value_data) \n",
    "_prestamos['commercial_assets_value'] = pd.to_numeric(_prestamos['commercial_assets_value'], errors='coerce')\n",
    "print(_prestamos['commercial_assets_value'].min())\n",
    "\n",
    "\n",
    "luxury_assets_value_data = _prestamos['luxury_assets_value'].unique()\n",
    "print(luxury_assets_value_data)\n",
    "_prestamos['luxury_assets_value'] = pd.to_numeric(_prestamos['luxury_assets_value'], errors='coerce')\n",
    "print(_prestamos['luxury_assets_value'].min())\n",
    "\n",
    "bank_asset_value_data = _prestamos['bank_asset_value'].unique()\n",
    "print(bank_asset_value_data)\n",
    "_prestamos['bank_asset_value'] = pd.to_numeric(_prestamos['bank_asset_value'], errors='coerce')\n",
    "print(_prestamos['bank_asset_value'].min())"
   ]
  },
  {
   "cell_type": "markdown",
   "metadata": {},
   "source": [
    "Por último, para facilitar el desarrollo de los distintos modelos, vamos a renombrar las columnas y vamos a guardar el resultado en un archivo csv, de manera que para cada nueva evaluación se cargue el fichero ya limpio."
   ]
  },
  {
   "cell_type": "code",
   "execution_count": null,
   "metadata": {},
   "outputs": [],
   "source": [
    "columnas = {'no_of_dependents':'Personas a cargo',\n",
    "            'income_annum': 'Ingreso Anual',\n",
    "            'loan_amount': 'Cantidad del prestamo',\n",
    "            'loan_term' : 'Plazos',\n",
    "            'cibil_score': 'Puntos CIBIL',\n",
    "            'residential_assets_value': 'Activos residenciales',\n",
    "            'commercial_assets_value': 'Activos comerciales',\n",
    "            'luxury_assets_value': 'Activos de lujo',\n",
    "            'bank_asset_value': 'Activos bancarios',\n",
    "            'self_employed_Yes': 'Autonomo',\n",
    "            'education_Not Graduate': 'No graduado',\n",
    "            'loan_status_Rejected': 'Prestamo rechazado'\n",
    "}\n",
    "\n",
    "_prestamos.rename(columns=columnas, inplace=True)\n",
    "_prestamos.to_csv('dataset_clean.csv', index=False)"
   ]
  },
  {
   "cell_type": "markdown",
   "metadata": {},
   "source": [
    "# Evaluación  \n",
    "Aquí va la predicción como tal (añadir gráficas si es posible)"
   ]
  },
  {
   "cell_type": "markdown",
   "metadata": {},
   "source": [
    "### KNN  \n",
    "desarrollo"
   ]
  },
  {
   "cell_type": "code",
   "execution_count": null,
   "metadata": {},
   "outputs": [],
   "source": [
    "import pandas as pd\n",
    "from sklearn.neighbors import KNeighborsClassifier as knc\n",
    "from sklearn.model_selection import train_test_split as tts\n",
    "from sklearn.preprocessing import StandardScaler\n",
    "\n",
    "data = pd.read_csv('dataset_clean.csv')\n",
    "\n",
    "x = data.drop(columns=['Prestamo rechazado'])\n",
    "y = data['Prestamo rechazado']\n",
    "\n",
    "x_train, x_test, y_train, y_test = tts(x, y, test_size=0.2)\n",
    "\n",
    "scaler = StandardScaler()\n",
    "x_train = scaler.fit_transform(x_train)\n",
    "x_test = scaler.transform(x_test)\n",
    "\n",
    "#Se han hecho múltiples pruebas de k sin fijar random_state y el mejor score suele estar sobre 70\n",
    "model = knc(n_neighbors=70, weights='distance')\n",
    "\n",
    "model.fit(x_train, y_train)\n",
    "prediction = model.predict(x_test)\n",
    "print(f\"Predicción: {prediction}\")\n",
    "print(f\"Test: {y_test}\")\n",
    "\n",
    "score = model.score(x_test, y_test)\n",
    "print(f\"Score: {score}\")"
   ]
  },
  {
   "cell_type": "markdown",
   "metadata": {},
   "source": [
    "# Conclusiones  \n",
    "Conclusiones sacadas del estudio"
   ]
  }
 ],
 "metadata": {
  "kernelspec": {
   "display_name": "Python 3",
   "language": "python",
   "name": "python3"
  },
  "language_info": {
   "codemirror_mode": {
    "name": "ipython",
    "version": 3
   },
   "file_extension": ".py",
   "mimetype": "text/x-python",
   "name": "python",
   "nbconvert_exporter": "python",
   "pygments_lexer": "ipython3",
   "version": "3.11.2"
  }
 },
 "nbformat": 4,
 "nbformat_minor": 2
}
