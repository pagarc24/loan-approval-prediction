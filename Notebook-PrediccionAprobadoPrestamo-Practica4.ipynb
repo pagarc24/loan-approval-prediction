{
 "cells": [
  {
   "cell_type": "markdown",
   "metadata": {},
   "source": [
    "# Práctica 4 #  \n",
    "Grupo: Tralalelo Tralala  \n",
    "Integrantes: Yuriy Chaban Markevych, Pablo García Fernández y Alonso Campillo Martínez  "
   ]
  },
  {
   "cell_type": "markdown",
   "metadata": {},
   "source": [
    "# Introducción  \n",
    "Aquí explicamos el trabajo y la motivación por hacerlo"
   ]
  },
  {
   "cell_type": "markdown",
   "metadata": {},
   "source": [
    "# Dataset  \n",
    "Explicamos el dataset elegido, las columnas que vamos a usar y hacemos la limpieza de los datos (previo análisis)"
   ]
  },
  {
   "cell_type": "markdown",
   "metadata": {},
   "source": [
    "# Evaluación  \n",
    "Aquí va la predicción como tal (añadir gráficas si es posible)"
   ]
  },
  {
   "cell_type": "markdown",
   "metadata": {},
   "source": [
    "# Conclusiones  \n",
    "Conclusiones sacadas del estudio"
   ]
  }
 ],
 "metadata": {
  "language_info": {
   "name": "python"
  }
 },
 "nbformat": 4,
 "nbformat_minor": 2
}
